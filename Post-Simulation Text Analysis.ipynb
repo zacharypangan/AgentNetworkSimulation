{
 "cells": [
  {
   "cell_type": "code",
   "execution_count": 1,
   "metadata": {},
   "outputs": [
    {
     "ename": "ModuleNotFoundError",
     "evalue": "No module named 'nltk'",
     "output_type": "error",
     "traceback": [
      "\u001b[0;31m---------------------------------------------------------------------------\u001b[0m",
      "\u001b[0;31mModuleNotFoundError\u001b[0m                       Traceback (most recent call last)",
      "\u001b[0;32m<ipython-input-1-98ff12aa1fb7>\u001b[0m in \u001b[0;36m<module>\u001b[0;34m\u001b[0m\n\u001b[0;32m----> 1\u001b[0;31m \u001b[0;32mimport\u001b[0m \u001b[0mnltk\u001b[0m\u001b[0;34m\u001b[0m\u001b[0;34m\u001b[0m\u001b[0m\n\u001b[0m\u001b[1;32m      2\u001b[0m \u001b[0;32mfrom\u001b[0m \u001b[0mnltk\u001b[0m\u001b[0;34m.\u001b[0m\u001b[0mcorpus\u001b[0m \u001b[0;32mimport\u001b[0m \u001b[0mstopwords\u001b[0m\u001b[0;34m\u001b[0m\u001b[0;34m\u001b[0m\u001b[0m\n\u001b[1;32m      3\u001b[0m \u001b[0;34m\u001b[0m\u001b[0m\n\u001b[1;32m      4\u001b[0m \u001b[0mnltk\u001b[0m\u001b[0;34m.\u001b[0m\u001b[0mdownload\u001b[0m\u001b[0;34m(\u001b[0m\u001b[0;34m'stopwords'\u001b[0m\u001b[0;34m)\u001b[0m\u001b[0;34m\u001b[0m\u001b[0;34m\u001b[0m\u001b[0m\n\u001b[1;32m      5\u001b[0m \u001b[0mnltk\u001b[0m\u001b[0;34m.\u001b[0m\u001b[0mdownload\u001b[0m\u001b[0;34m(\u001b[0m\u001b[0;34m'wordnet'\u001b[0m\u001b[0;34m)\u001b[0m\u001b[0;34m\u001b[0m\u001b[0;34m\u001b[0m\u001b[0m\n",
      "\u001b[0;31mModuleNotFoundError\u001b[0m: No module named 'nltk'"
     ]
    }
   ],
   "source": [
    "import nltk\n",
    "from nltk.corpus import stopwords\n",
    "\n",
    "nltk.download('stopwords')\n",
    "nltk.download('wordnet')\n",
    "nltk.download('sentiwordnet')\n",
    "stopwords = stopwords.words('english')"
   ]
  },
  {
   "cell_type": "code",
   "execution_count": 9,
   "metadata": {},
   "outputs": [
    {
     "ename": "ModuleNotFoundError",
     "evalue": "No module named 'bertopic'",
     "output_type": "error",
     "traceback": [
      "\u001b[0;31m---------------------------------------------------------------------------\u001b[0m",
      "\u001b[0;31mModuleNotFoundError\u001b[0m                       Traceback (most recent call last)",
      "Cell \u001b[0;32mIn [9], line 1\u001b[0m\n\u001b[0;32m----> 1\u001b[0m \u001b[39mfrom\u001b[39;00m \u001b[39mbertopic\u001b[39;00m \u001b[39mimport\u001b[39;00m BERTopic\n\u001b[1;32m      2\u001b[0m topic_model \u001b[39m=\u001b[39m BERTopic(min_topic_size\u001b[39m=\u001b[39m\u001b[39m70\u001b[39m, n_gram_range\u001b[39m=\u001b[39m(\u001b[39m1\u001b[39m,\u001b[39m3\u001b[39m), verbose\u001b[39m=\u001b[39m\u001b[39mTrue\u001b[39;00m)\n",
      "\u001b[0;31mModuleNotFoundError\u001b[0m: No module named 'bertopic'"
     ]
    }
   ],
   "source": [
    "from bertopic import BERTopic\n",
    "topic_model = BERTopic(min_topic_size=70, n_gram_range=(1,3), verbose=True)"
   ]
  },
  {
   "cell_type": "code",
   "execution_count": null,
   "metadata": {},
   "outputs": [],
   "source": [
    "def clean_tweets(tweets):\n",
    "    \"\"\"\n",
    "    Remove blank texts, emojis, handles and hashtags, \n",
    "    leading and trailing whitespaces, and escape characters.\n",
    "    \"\"\"\n",
    "    tweets['cleaned_text'] = tweets['message'].fillna('') # Remove blank texts\n",
    "    #tweets['cleaned_text'] = tweets['cleaned_text'].apply(lambda x: emoji.get_emoji_regexp().sub(\"\", x)) # Remove emojis\n",
    "    tweets['cleaned_text'] = tweets['cleaned_text'].str.replace(r'(@[A-Za-z0-9_]+)|(#[A-Za-z0-9_]+)|(\\w+:\\/\\/\\S+)', '', regex=True) # Remove handles and hashtags\n",
    "    tweets['cleaned_text'] = tweets['cleaned_text'].str.replace(r'\\t+|\\n+|\\r+', '', regex=True)  # Remove escape characters\n",
    "    tweets['cleaned_text'] = tweets['cleaned_text'].str.replace(r'^\\s+|\\s+$', '', regex=True)  # Remove trailing and leading whitespaces\n",
    "    return tweets\n",
    "\n",
    "# Used for word-level analyses\n",
    "def superclean_tweets(tweets):\n",
    "    \"\"\"\n",
    "    Lowercase characters, remove non-alphanumeric characters, remove stopwords. \n",
    "    \"\"\"\n",
    "    tweets['supercleaned_text'] = tweets['cleaned_text'].str.lower() # Transform into lowercase\n",
    "    tweets['supercleaned_text'] = tweets['supercleaned_text'].str.replace(r'([^A-Za-z0-9_ \\t])|(\\w+:\\/\\/\\S+)', '') # Remove non-alphanumeric characters\n",
    "    tweets['supercleaned_text'] = tweets['supercleaned_text'].apply(lambda x: ' '.join([w for w in x.split() if w not in (stopwords)])) # Remove stopwords\n",
    "    return tweets"
   ]
  },
  {
   "cell_type": "code",
   "execution_count": null,
   "metadata": {},
   "outputs": [],
   "source": []
  },
  {
   "cell_type": "code",
   "execution_count": null,
   "metadata": {},
   "outputs": [],
   "source": [
    "correspondenceTimeline_cleaned = clean_tweets(correspondenceTimeline_preprocessed)\n",
    "correspondenceTimeline_cleaned = superclean_tweets(correspondenceTimeline_preprocessed)\n",
    "correspondenceTimeline_cleaned.head()"
   ]
  },
  {
   "cell_type": "code",
   "execution_count": null,
   "metadata": {},
   "outputs": [],
   "source": [
    "from bertopic import BERTopic\n",
    "\n",
    "# Create a BERTopic model\n",
    "model = BERTopic(time_slice='1D')\n",
    "\n",
    "# Fit the model to the data\n",
    "model.fit(correspondenceTimeline_cleaned)\n",
    "\n",
    "# Create a DTM for each time slice\n",
    "#dtm = model.transform(data)\n",
    "\n",
    "# Access the topics and timestamps for each time slice\n",
    "topics = model.topic_word_\n",
    "timestamps = model.timestamps_"
   ]
  }
 ],
 "metadata": {
  "kernelspec": {
   "display_name": "Python 3",
   "language": "python",
   "name": "python3"
  },
  "language_info": {
   "codemirror_mode": {
    "name": "ipython",
    "version": 3
   },
   "file_extension": ".py",
   "mimetype": "text/x-python",
   "name": "python",
   "nbconvert_exporter": "python",
   "pygments_lexer": "ipython3",
   "version": "3.6.8"
  },
  "orig_nbformat": 4,
  "vscode": {
   "interpreter": {
    "hash": "31f2aee4e71d21fbe5cf8b01ff0e069b9275f58929596ceb00d14d90e3e16cd6"
   }
  }
 },
 "nbformat": 4,
 "nbformat_minor": 2
}
